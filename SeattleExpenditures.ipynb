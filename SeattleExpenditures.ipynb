{
 "cells": [
  {
   "cell_type": "markdown",
   "metadata": {},
   "source": [
    "Pandas basics \n",
    "\n",
    "Pandas is a Python library for working with DataFrames\n",
    "Use pandas attributes and methods to examine the strucutre of the data and to subset\n",
    "A Part 2 of this example will demonstrate how to reshape data\n",
    "Download CSV from https://data.seattle.gov/Finance/Expenditures-dollars/frxe-s3us\n"
   ]
  },
  {
   "cell_type": "code",
   "execution_count": 7,
   "metadata": {},
   "outputs": [],
   "source": [
    "# import the needed library \n",
    "import pandas as pd\n",
    "\n",
    "# load the CSV (comma-separated values) file and assign it to a dataframe\n",
    "df = pd.read_csv('datasets\\Expenditures-dollars.csv')"
   ]
  },
  {
   "cell_type": "code",
   "execution_count": 33,
   "metadata": {},
   "outputs": [
    {
     "data": {
      "text/plain": [
       "[RangeIndex(start=0, stop=480, step=1),\n",
       " Index(['Department', 'BCL', 'Program', '2012 Actual', '2013 Adopted',\n",
       "        '2014 Endorsed', '2014 Proposed'],\n",
       "       dtype='object')]"
      ]
     },
     "execution_count": 33,
     "metadata": {},
     "output_type": "execute_result"
    }
   ],
   "source": [
    "df.axes"
   ]
  },
  {
   "cell_type": "code",
   "execution_count": 9,
   "metadata": {},
   "outputs": [
    {
     "data": {
      "text/plain": [
       "Index(['Department', 'BCL', 'Program', '2012 Actual', '2013 Adopted',\n",
       "       '2014 Endorsed', '2014 Proposed'],\n",
       "      dtype='object')"
      ]
     },
     "execution_count": 9,
     "metadata": {},
     "output_type": "execute_result"
    }
   ],
   "source": [
    "df.columns"
   ]
  },
  {
   "cell_type": "code",
   "execution_count": 10,
   "metadata": {},
   "outputs": [
    {
     "data": {
      "text/plain": [
       "Department        object\n",
       "BCL               object\n",
       "Program           object\n",
       "2012 Actual      float64\n",
       "2013 Adopted     float64\n",
       "2014 Endorsed    float64\n",
       "2014 Proposed    float64\n",
       "dtype: object"
      ]
     },
     "execution_count": 10,
     "metadata": {},
     "output_type": "execute_result"
    }
   ],
   "source": [
    "df.dtypes"
   ]
  },
  {
   "cell_type": "code",
   "execution_count": 11,
   "metadata": {},
   "outputs": [
    {
     "data": {
      "text/plain": [
       "RangeIndex(start=0, stop=480, step=1)"
      ]
     },
     "execution_count": 11,
     "metadata": {},
     "output_type": "execute_result"
    }
   ],
   "source": [
    "df.index"
   ]
  },
  {
   "cell_type": "code",
   "execution_count": 12,
   "metadata": {},
   "outputs": [
    {
     "data": {
      "text/plain": [
       "(480, 7)"
      ]
     },
     "execution_count": 12,
     "metadata": {},
     "output_type": "execute_result"
    }
   ],
   "source": [
    "df.shape"
   ]
  },
  {
   "cell_type": "code",
   "execution_count": 13,
   "metadata": {},
   "outputs": [
    {
     "data": {
      "text/plain": [
       "3360"
      ]
     },
     "execution_count": 13,
     "metadata": {},
     "output_type": "execute_result"
    }
   ],
   "source": [
    "df.size"
   ]
  },
  {
   "cell_type": "code",
   "execution_count": 14,
   "metadata": {},
   "outputs": [
    {
     "data": {
      "text/plain": [
       "array([['12LIBLEVY', 'Library Levy Operating Transfer',\n",
       "        'Library Levy Operating Transfer', ..., 13049781.0, 12658704.0,\n",
       "        12658704.0],\n",
       "       ['ARTS', 'Arts Account', 'Administrative Services', ..., 400683.0,\n",
       "        411913.0, 587579.0],\n",
       "       ['ARTS', 'Arts Account', 'Community Development and Outreach',\n",
       "        ..., 518398.0, 534369.0, 524770.0],\n",
       "       ...,\n",
       "       ['SZF', 'Camera Operations, Administration, and Enforcement',\n",
       "        'Camera Operations, Administration, and Enforcement', ..., nan,\n",
       "        nan, 1530586.0],\n",
       "       ['SZF',\n",
       "        'School Safety Education and Outreach, Infrastructure Maintenance, and Capital Improvements',\n",
       "        'Capital Improvements', ..., nan, nan, 6599000.0],\n",
       "       [nan, nan, 'Non-Capital Operations and Maintenance', ..., nan,\n",
       "        nan, 489500.0]], dtype=object)"
      ]
     },
     "execution_count": 14,
     "metadata": {},
     "output_type": "execute_result"
    }
   ],
   "source": [
    "df.values"
   ]
  },
  {
   "cell_type": "code",
   "execution_count": 15,
   "metadata": {},
   "outputs": [
    {
     "data": {
      "text/html": [
       "<div>\n",
       "<style scoped>\n",
       "    .dataframe tbody tr th:only-of-type {\n",
       "        vertical-align: middle;\n",
       "    }\n",
       "\n",
       "    .dataframe tbody tr th {\n",
       "        vertical-align: top;\n",
       "    }\n",
       "\n",
       "    .dataframe thead th {\n",
       "        text-align: right;\n",
       "    }\n",
       "</style>\n",
       "<table border=\"1\" class=\"dataframe\">\n",
       "  <thead>\n",
       "    <tr style=\"text-align: right;\">\n",
       "      <th></th>\n",
       "      <th>2012 Actual</th>\n",
       "      <th>2013 Adopted</th>\n",
       "      <th>2014 Endorsed</th>\n",
       "      <th>2014 Proposed</th>\n",
       "    </tr>\n",
       "  </thead>\n",
       "  <tbody>\n",
       "    <tr>\n",
       "      <th>count</th>\n",
       "      <td>4.010000e+02</td>\n",
       "      <td>4.130000e+02</td>\n",
       "      <td>4.080000e+02</td>\n",
       "      <td>4.440000e+02</td>\n",
       "    </tr>\n",
       "    <tr>\n",
       "      <th>mean</th>\n",
       "      <td>9.842866e+06</td>\n",
       "      <td>1.046972e+07</td>\n",
       "      <td>1.127790e+07</td>\n",
       "      <td>1.057507e+07</td>\n",
       "    </tr>\n",
       "    <tr>\n",
       "      <th>std</th>\n",
       "      <td>2.620948e+07</td>\n",
       "      <td>2.719640e+07</td>\n",
       "      <td>2.903089e+07</td>\n",
       "      <td>2.787323e+07</td>\n",
       "    </tr>\n",
       "    <tr>\n",
       "      <th>min</th>\n",
       "      <td>-2.777152e+07</td>\n",
       "      <td>-2.884116e+07</td>\n",
       "      <td>-2.968772e+07</td>\n",
       "      <td>-3.079840e+07</td>\n",
       "    </tr>\n",
       "    <tr>\n",
       "      <th>25%</th>\n",
       "      <td>7.466740e+05</td>\n",
       "      <td>8.038870e+05</td>\n",
       "      <td>8.329322e+05</td>\n",
       "      <td>7.287082e+05</td>\n",
       "    </tr>\n",
       "    <tr>\n",
       "      <th>50%</th>\n",
       "      <td>2.731433e+06</td>\n",
       "      <td>2.813285e+06</td>\n",
       "      <td>2.928010e+06</td>\n",
       "      <td>2.763830e+06</td>\n",
       "    </tr>\n",
       "    <tr>\n",
       "      <th>75%</th>\n",
       "      <td>8.346157e+06</td>\n",
       "      <td>8.612388e+06</td>\n",
       "      <td>8.985873e+06</td>\n",
       "      <td>8.458372e+06</td>\n",
       "    </tr>\n",
       "    <tr>\n",
       "      <th>max</th>\n",
       "      <td>2.874715e+08</td>\n",
       "      <td>2.831832e+08</td>\n",
       "      <td>2.870569e+08</td>\n",
       "      <td>2.877135e+08</td>\n",
       "    </tr>\n",
       "  </tbody>\n",
       "</table>\n",
       "</div>"
      ],
      "text/plain": [
       "        2012 Actual  2013 Adopted  2014 Endorsed  2014 Proposed\n",
       "count  4.010000e+02  4.130000e+02   4.080000e+02   4.440000e+02\n",
       "mean   9.842866e+06  1.046972e+07   1.127790e+07   1.057507e+07\n",
       "std    2.620948e+07  2.719640e+07   2.903089e+07   2.787323e+07\n",
       "min   -2.777152e+07 -2.884116e+07  -2.968772e+07  -3.079840e+07\n",
       "25%    7.466740e+05  8.038870e+05   8.329322e+05   7.287082e+05\n",
       "50%    2.731433e+06  2.813285e+06   2.928010e+06   2.763830e+06\n",
       "75%    8.346157e+06  8.612388e+06   8.985873e+06   8.458372e+06\n",
       "max    2.874715e+08  2.831832e+08   2.870569e+08   2.877135e+08"
      ]
     },
     "execution_count": 15,
     "metadata": {},
     "output_type": "execute_result"
    }
   ],
   "source": [
    "df.describe()\n"
   ]
  },
  {
   "cell_type": "code",
   "execution_count": 16,
   "metadata": {},
   "outputs": [
    {
     "data": {
      "text/html": [
       "<div>\n",
       "<style scoped>\n",
       "    .dataframe tbody tr th:only-of-type {\n",
       "        vertical-align: middle;\n",
       "    }\n",
       "\n",
       "    .dataframe tbody tr th {\n",
       "        vertical-align: top;\n",
       "    }\n",
       "\n",
       "    .dataframe thead th {\n",
       "        text-align: right;\n",
       "    }\n",
       "</style>\n",
       "<table border=\"1\" class=\"dataframe\">\n",
       "  <thead>\n",
       "    <tr style=\"text-align: right;\">\n",
       "      <th></th>\n",
       "      <th>Department</th>\n",
       "      <th>BCL</th>\n",
       "      <th>Program</th>\n",
       "      <th>2012 Actual</th>\n",
       "      <th>2013 Adopted</th>\n",
       "      <th>2014 Endorsed</th>\n",
       "      <th>2014 Proposed</th>\n",
       "    </tr>\n",
       "  </thead>\n",
       "  <tbody>\n",
       "    <tr>\n",
       "      <th>0</th>\n",
       "      <td>12LIBLEVY</td>\n",
       "      <td>Library Levy Operating Transfer</td>\n",
       "      <td>Library Levy Operating Transfer</td>\n",
       "      <td>NaN</td>\n",
       "      <td>13049781.0</td>\n",
       "      <td>12658704.0</td>\n",
       "      <td>12658704.0</td>\n",
       "    </tr>\n",
       "    <tr>\n",
       "      <th>1</th>\n",
       "      <td>ARTS</td>\n",
       "      <td>Arts Account</td>\n",
       "      <td>Administrative Services</td>\n",
       "      <td>409133.0</td>\n",
       "      <td>400683.0</td>\n",
       "      <td>411913.0</td>\n",
       "      <td>587579.0</td>\n",
       "    </tr>\n",
       "    <tr>\n",
       "      <th>2</th>\n",
       "      <td>ARTS</td>\n",
       "      <td>Arts Account</td>\n",
       "      <td>Community Development and Outreach</td>\n",
       "      <td>1721308.0</td>\n",
       "      <td>518398.0</td>\n",
       "      <td>534369.0</td>\n",
       "      <td>524770.0</td>\n",
       "    </tr>\n",
       "    <tr>\n",
       "      <th>3</th>\n",
       "      <td>ARTS</td>\n",
       "      <td>Arts Account</td>\n",
       "      <td>Cultural Partnerships</td>\n",
       "      <td>2502448.0</td>\n",
       "      <td>3030729.0</td>\n",
       "      <td>3005137.0</td>\n",
       "      <td>3440764.0</td>\n",
       "    </tr>\n",
       "    <tr>\n",
       "      <th>4</th>\n",
       "      <td>ARTS</td>\n",
       "      <td>Arts Account</td>\n",
       "      <td>Langston Hughes Performing Arts Institute</td>\n",
       "      <td>NaN</td>\n",
       "      <td>745698.0</td>\n",
       "      <td>778669.0</td>\n",
       "      <td>809180.0</td>\n",
       "    </tr>\n",
       "  </tbody>\n",
       "</table>\n",
       "</div>"
      ],
      "text/plain": [
       "  Department                              BCL  \\\n",
       "0  12LIBLEVY  Library Levy Operating Transfer   \n",
       "1       ARTS                     Arts Account   \n",
       "2       ARTS                     Arts Account   \n",
       "3       ARTS                     Arts Account   \n",
       "4       ARTS                     Arts Account   \n",
       "\n",
       "                                     Program  2012 Actual  2013 Adopted  \\\n",
       "0            Library Levy Operating Transfer          NaN    13049781.0   \n",
       "1                    Administrative Services     409133.0      400683.0   \n",
       "2         Community Development and Outreach    1721308.0      518398.0   \n",
       "3                      Cultural Partnerships    2502448.0     3030729.0   \n",
       "4  Langston Hughes Performing Arts Institute          NaN      745698.0   \n",
       "\n",
       "   2014 Endorsed  2014 Proposed  \n",
       "0     12658704.0     12658704.0  \n",
       "1       411913.0       587579.0  \n",
       "2       534369.0       524770.0  \n",
       "3      3005137.0      3440764.0  \n",
       "4       778669.0       809180.0  "
      ]
     },
     "execution_count": 16,
     "metadata": {},
     "output_type": "execute_result"
    }
   ],
   "source": [
    "df.head()"
   ]
  },
  {
   "cell_type": "code",
   "execution_count": 17,
   "metadata": {},
   "outputs": [
    {
     "data": {
      "text/html": [
       "<div>\n",
       "<style scoped>\n",
       "    .dataframe tbody tr th:only-of-type {\n",
       "        vertical-align: middle;\n",
       "    }\n",
       "\n",
       "    .dataframe tbody tr th {\n",
       "        vertical-align: top;\n",
       "    }\n",
       "\n",
       "    .dataframe thead th {\n",
       "        text-align: right;\n",
       "    }\n",
       "</style>\n",
       "<table border=\"1\" class=\"dataframe\">\n",
       "  <thead>\n",
       "    <tr style=\"text-align: right;\">\n",
       "      <th></th>\n",
       "      <th>Department</th>\n",
       "      <th>BCL</th>\n",
       "      <th>Program</th>\n",
       "      <th>2012 Actual</th>\n",
       "      <th>2013 Adopted</th>\n",
       "      <th>2014 Endorsed</th>\n",
       "      <th>2014 Proposed</th>\n",
       "    </tr>\n",
       "  </thead>\n",
       "  <tbody>\n",
       "    <tr>\n",
       "      <th>475</th>\n",
       "      <td>SPU</td>\n",
       "      <td>Watershed Stewardship</td>\n",
       "      <td>Watershed Stewardship</td>\n",
       "      <td>1169111.0</td>\n",
       "      <td>3000.0</td>\n",
       "      <td>1999.0</td>\n",
       "      <td>227000.0</td>\n",
       "    </tr>\n",
       "    <tr>\n",
       "      <th>476</th>\n",
       "      <td>STCAR</td>\n",
       "      <td>Streetcar Operations</td>\n",
       "      <td>Streetcar Operations</td>\n",
       "      <td>670732.0</td>\n",
       "      <td>730935.0</td>\n",
       "      <td>5736749.0</td>\n",
       "      <td>5736611.0</td>\n",
       "    </tr>\n",
       "    <tr>\n",
       "      <th>477</th>\n",
       "      <td>SZF</td>\n",
       "      <td>Camera Operations, Administration, and Enforce...</td>\n",
       "      <td>Camera Operations, Administration, and Enforce...</td>\n",
       "      <td>NaN</td>\n",
       "      <td>NaN</td>\n",
       "      <td>NaN</td>\n",
       "      <td>1530586.0</td>\n",
       "    </tr>\n",
       "    <tr>\n",
       "      <th>478</th>\n",
       "      <td>SZF</td>\n",
       "      <td>School Safety Education and Outreach, Infrastr...</td>\n",
       "      <td>Capital Improvements</td>\n",
       "      <td>NaN</td>\n",
       "      <td>NaN</td>\n",
       "      <td>NaN</td>\n",
       "      <td>6599000.0</td>\n",
       "    </tr>\n",
       "    <tr>\n",
       "      <th>479</th>\n",
       "      <td>NaN</td>\n",
       "      <td>NaN</td>\n",
       "      <td>Non-Capital Operations and Maintenance</td>\n",
       "      <td>NaN</td>\n",
       "      <td>NaN</td>\n",
       "      <td>NaN</td>\n",
       "      <td>489500.0</td>\n",
       "    </tr>\n",
       "  </tbody>\n",
       "</table>\n",
       "</div>"
      ],
      "text/plain": [
       "    Department                                                BCL  \\\n",
       "475        SPU                              Watershed Stewardship   \n",
       "476      STCAR                               Streetcar Operations   \n",
       "477        SZF  Camera Operations, Administration, and Enforce...   \n",
       "478        SZF  School Safety Education and Outreach, Infrastr...   \n",
       "479        NaN                                                NaN   \n",
       "\n",
       "                                               Program  2012 Actual  \\\n",
       "475                              Watershed Stewardship    1169111.0   \n",
       "476                               Streetcar Operations     670732.0   \n",
       "477  Camera Operations, Administration, and Enforce...          NaN   \n",
       "478                               Capital Improvements          NaN   \n",
       "479             Non-Capital Operations and Maintenance          NaN   \n",
       "\n",
       "     2013 Adopted  2014 Endorsed  2014 Proposed  \n",
       "475        3000.0         1999.0       227000.0  \n",
       "476      730935.0      5736749.0      5736611.0  \n",
       "477           NaN            NaN      1530586.0  \n",
       "478           NaN            NaN      6599000.0  \n",
       "479           NaN            NaN       489500.0  "
      ]
     },
     "execution_count": 17,
     "metadata": {},
     "output_type": "execute_result"
    }
   ],
   "source": [
    "df.tail()"
   ]
  },
  {
   "cell_type": "code",
   "execution_count": 18,
   "metadata": {},
   "outputs": [
    {
     "data": {
      "text/plain": [
       "Program          1998B Capital Facilities Refunding\n",
       "2012 Actual                            -2.77715e+07\n",
       "2013 Adopted                           -2.88412e+07\n",
       "2014 Endorsed                          -2.96877e+07\n",
       "2014 Proposed                          -3.07984e+07\n",
       "dtype: object"
      ]
     },
     "execution_count": 18,
     "metadata": {},
     "output_type": "execute_result"
    }
   ],
   "source": [
    "df.min()"
   ]
  },
  {
   "cell_type": "code",
   "execution_count": 19,
   "metadata": {},
   "outputs": [
    {
     "data": {
      "text/plain": [
       "Program          Youth Violence Prevention\n",
       "2012 Actual                    2.87471e+08\n",
       "2013 Adopted                   2.83183e+08\n",
       "2014 Endorsed                  2.87057e+08\n",
       "2014 Proposed                  2.87713e+08\n",
       "dtype: object"
      ]
     },
     "execution_count": 19,
     "metadata": {},
     "output_type": "execute_result"
    }
   ],
   "source": [
    "df.max()"
   ]
  },
  {
   "cell_type": "code",
   "execution_count": 20,
   "metadata": {},
   "outputs": [
    {
     "data": {
      "text/plain": [
       "2012 Actual      9.842866e+06\n",
       "2013 Adopted     1.046972e+07\n",
       "2014 Endorsed    1.127790e+07\n",
       "2014 Proposed    1.057507e+07\n",
       "dtype: float64"
      ]
     },
     "execution_count": 20,
     "metadata": {},
     "output_type": "execute_result"
    }
   ],
   "source": [
    "df.mean()"
   ]
  },
  {
   "cell_type": "code",
   "execution_count": 21,
   "metadata": {},
   "outputs": [
    {
     "data": {
      "text/plain": [
       "2012 Actual      2731433.0\n",
       "2013 Adopted     2813285.0\n",
       "2014 Endorsed    2928010.5\n",
       "2014 Proposed    2763830.5\n",
       "dtype: float64"
      ]
     },
     "execution_count": 21,
     "metadata": {},
     "output_type": "execute_result"
    }
   ],
   "source": [
    "df.median()"
   ]
  },
  {
   "cell_type": "code",
   "execution_count": 22,
   "metadata": {},
   "outputs": [
    {
     "data": {
      "text/html": [
       "<div>\n",
       "<style scoped>\n",
       "    .dataframe tbody tr th:only-of-type {\n",
       "        vertical-align: middle;\n",
       "    }\n",
       "\n",
       "    .dataframe tbody tr th {\n",
       "        vertical-align: top;\n",
       "    }\n",
       "\n",
       "    .dataframe thead th {\n",
       "        text-align: right;\n",
       "    }\n",
       "</style>\n",
       "<table border=\"1\" class=\"dataframe\">\n",
       "  <thead>\n",
       "    <tr style=\"text-align: right;\">\n",
       "      <th></th>\n",
       "      <th>Department</th>\n",
       "      <th>BCL</th>\n",
       "      <th>Program</th>\n",
       "      <th>2012 Actual</th>\n",
       "      <th>2013 Adopted</th>\n",
       "      <th>2014 Endorsed</th>\n",
       "      <th>2014 Proposed</th>\n",
       "    </tr>\n",
       "  </thead>\n",
       "  <tbody>\n",
       "    <tr>\n",
       "      <th>292</th>\n",
       "      <td>OED</td>\n",
       "      <td>Office of Economic Development</td>\n",
       "      <td>Business Services</td>\n",
       "      <td>5389440.0</td>\n",
       "      <td>4880399.0</td>\n",
       "      <td>4837218.0</td>\n",
       "      <td>5898752.0</td>\n",
       "    </tr>\n",
       "  </tbody>\n",
       "</table>\n",
       "</div>"
      ],
      "text/plain": [
       "    Department                             BCL            Program  \\\n",
       "292        OED  Office of Economic Development  Business Services   \n",
       "\n",
       "     2012 Actual  2013 Adopted  2014 Endorsed  2014 Proposed  \n",
       "292    5389440.0     4880399.0      4837218.0      5898752.0  "
      ]
     },
     "execution_count": 22,
     "metadata": {},
     "output_type": "execute_result"
    }
   ],
   "source": [
    "df.sample()"
   ]
  },
  {
   "cell_type": "code",
   "execution_count": 23,
   "metadata": {},
   "outputs": [
    {
     "data": {
      "text/html": [
       "<div>\n",
       "<style scoped>\n",
       "    .dataframe tbody tr th:only-of-type {\n",
       "        vertical-align: middle;\n",
       "    }\n",
       "\n",
       "    .dataframe tbody tr th {\n",
       "        vertical-align: top;\n",
       "    }\n",
       "\n",
       "    .dataframe thead th {\n",
       "        text-align: right;\n",
       "    }\n",
       "</style>\n",
       "<table border=\"1\" class=\"dataframe\">\n",
       "  <thead>\n",
       "    <tr style=\"text-align: right;\">\n",
       "      <th></th>\n",
       "      <th>Department</th>\n",
       "      <th>BCL</th>\n",
       "      <th>Program</th>\n",
       "      <th>2012 Actual</th>\n",
       "      <th>2013 Adopted</th>\n",
       "      <th>2014 Endorsed</th>\n",
       "      <th>2014 Proposed</th>\n",
       "    </tr>\n",
       "  </thead>\n",
       "  <tbody>\n",
       "    <tr>\n",
       "      <th>440</th>\n",
       "      <td>SPL</td>\n",
       "      <td>Administrative Services</td>\n",
       "      <td>Safety and Security Services</td>\n",
       "      <td>1089538.0</td>\n",
       "      <td>1379856.0</td>\n",
       "      <td>1427904.0</td>\n",
       "      <td>1390102.0</td>\n",
       "    </tr>\n",
       "    <tr>\n",
       "      <th>449</th>\n",
       "      <td>SPL</td>\n",
       "      <td>Library Programs and Services</td>\n",
       "      <td>Program and Services - Systemwide Services</td>\n",
       "      <td>NaN</td>\n",
       "      <td>NaN</td>\n",
       "      <td>NaN</td>\n",
       "      <td>4841025.0</td>\n",
       "    </tr>\n",
       "    <tr>\n",
       "      <th>318</th>\n",
       "      <td>PIKELEVY</td>\n",
       "      <td>Pike Place Market Renovation</td>\n",
       "      <td>Levy Proceeds</td>\n",
       "      <td>6126746.0</td>\n",
       "      <td>NaN</td>\n",
       "      <td>NaN</td>\n",
       "      <td>NaN</td>\n",
       "    </tr>\n",
       "    <tr>\n",
       "      <th>355</th>\n",
       "      <td>SDOT</td>\n",
       "      <td>General Expense</td>\n",
       "      <td>Indirect Cost Recovery - General Expense</td>\n",
       "      <td>-11657437.0</td>\n",
       "      <td>-11753733.0</td>\n",
       "      <td>-12373596.0</td>\n",
       "      <td>-13098088.0</td>\n",
       "    </tr>\n",
       "    <tr>\n",
       "      <th>388</th>\n",
       "      <td>SFD</td>\n",
       "      <td>Administration</td>\n",
       "      <td>Communications</td>\n",
       "      <td>6177189.0</td>\n",
       "      <td>NaN</td>\n",
       "      <td>NaN</td>\n",
       "      <td>NaN</td>\n",
       "    </tr>\n",
       "    <tr>\n",
       "      <th>325</th>\n",
       "      <td>SCL</td>\n",
       "      <td>Compliance and Security</td>\n",
       "      <td>Compliance and Security</td>\n",
       "      <td>2891938.0</td>\n",
       "      <td>3163331.0</td>\n",
       "      <td>3442861.0</td>\n",
       "      <td>3414126.0</td>\n",
       "    </tr>\n",
       "    <tr>\n",
       "      <th>27</th>\n",
       "      <td>CIV</td>\n",
       "      <td>Civil Service Commissions</td>\n",
       "      <td>Civil Service Commissions</td>\n",
       "      <td>323212.0</td>\n",
       "      <td>373371.0</td>\n",
       "      <td>385887.0</td>\n",
       "      <td>379974.0</td>\n",
       "    </tr>\n",
       "    <tr>\n",
       "      <th>417</th>\n",
       "      <td>SPD</td>\n",
       "      <td>Chief of Police</td>\n",
       "      <td>Chief of Police</td>\n",
       "      <td>15602723.0</td>\n",
       "      <td>3537526.0</td>\n",
       "      <td>3628345.0</td>\n",
       "      <td>4963126.0</td>\n",
       "    </tr>\n",
       "    <tr>\n",
       "      <th>192</th>\n",
       "      <td>FG</td>\n",
       "      <td>Reserves</td>\n",
       "      <td>Interbay Housing Project</td>\n",
       "      <td>NaN</td>\n",
       "      <td>NaN</td>\n",
       "      <td>NaN</td>\n",
       "      <td>150000.0</td>\n",
       "    </tr>\n",
       "    <tr>\n",
       "      <th>260</th>\n",
       "      <td>HSD</td>\n",
       "      <td>Public Health Services</td>\n",
       "      <td>Asthma</td>\n",
       "      <td>128697.0</td>\n",
       "      <td>131271.0</td>\n",
       "      <td>134290.0</td>\n",
       "      <td>134290.0</td>\n",
       "    </tr>\n",
       "  </tbody>\n",
       "</table>\n",
       "</div>"
      ],
      "text/plain": [
       "    Department                            BCL  \\\n",
       "440        SPL        Administrative Services   \n",
       "449        SPL  Library Programs and Services   \n",
       "318   PIKELEVY   Pike Place Market Renovation   \n",
       "355       SDOT                General Expense   \n",
       "388        SFD                 Administration   \n",
       "325        SCL        Compliance and Security   \n",
       "27         CIV      Civil Service Commissions   \n",
       "417        SPD                Chief of Police   \n",
       "192         FG                       Reserves   \n",
       "260        HSD         Public Health Services   \n",
       "\n",
       "                                        Program  2012 Actual  2013 Adopted  \\\n",
       "440                Safety and Security Services    1089538.0     1379856.0   \n",
       "449  Program and Services - Systemwide Services          NaN           NaN   \n",
       "318                               Levy Proceeds    6126746.0           NaN   \n",
       "355    Indirect Cost Recovery - General Expense  -11657437.0   -11753733.0   \n",
       "388                              Communications    6177189.0           NaN   \n",
       "325                     Compliance and Security    2891938.0     3163331.0   \n",
       "27                    Civil Service Commissions     323212.0      373371.0   \n",
       "417                             Chief of Police   15602723.0     3537526.0   \n",
       "192                    Interbay Housing Project          NaN           NaN   \n",
       "260                                      Asthma     128697.0      131271.0   \n",
       "\n",
       "     2014 Endorsed  2014 Proposed  \n",
       "440      1427904.0      1390102.0  \n",
       "449            NaN      4841025.0  \n",
       "318            NaN            NaN  \n",
       "355    -12373596.0    -13098088.0  \n",
       "388            NaN            NaN  \n",
       "325      3442861.0      3414126.0  \n",
       "27        385887.0       379974.0  \n",
       "417      3628345.0      4963126.0  \n",
       "192            NaN       150000.0  \n",
       "260       134290.0       134290.0  "
      ]
     },
     "execution_count": 23,
     "metadata": {},
     "output_type": "execute_result"
    }
   ],
   "source": [
    "df.sample(10)"
   ]
  },
  {
   "cell_type": "code",
   "execution_count": 24,
   "metadata": {},
   "outputs": [
    {
     "data": {
      "text/plain": [
       "2012 Actual      2.620948e+07\n",
       "2013 Adopted     2.719640e+07\n",
       "2014 Endorsed    2.903089e+07\n",
       "2014 Proposed    2.787323e+07\n",
       "dtype: float64"
      ]
     },
     "execution_count": 24,
     "metadata": {},
     "output_type": "execute_result"
    }
   ],
   "source": [
    "df.std()"
   ]
  },
  {
   "cell_type": "code",
   "execution_count": 34,
   "metadata": {},
   "outputs": [
    {
     "data": {
      "text/html": [
       "<div>\n",
       "<style scoped>\n",
       "    .dataframe tbody tr th:only-of-type {\n",
       "        vertical-align: middle;\n",
       "    }\n",
       "\n",
       "    .dataframe tbody tr th {\n",
       "        vertical-align: top;\n",
       "    }\n",
       "\n",
       "    .dataframe thead th {\n",
       "        text-align: right;\n",
       "    }\n",
       "</style>\n",
       "<table border=\"1\" class=\"dataframe\">\n",
       "  <thead>\n",
       "    <tr style=\"text-align: right;\">\n",
       "      <th></th>\n",
       "      <th>Program</th>\n",
       "      <th>2012 Actual</th>\n",
       "    </tr>\n",
       "  </thead>\n",
       "  <tbody>\n",
       "    <tr>\n",
       "      <th>0</th>\n",
       "      <td>Library Levy Operating Transfer</td>\n",
       "      <td>NaN</td>\n",
       "    </tr>\n",
       "    <tr>\n",
       "      <th>1</th>\n",
       "      <td>Administrative Services</td>\n",
       "      <td>409133.0</td>\n",
       "    </tr>\n",
       "    <tr>\n",
       "      <th>2</th>\n",
       "      <td>Community Development and Outreach</td>\n",
       "      <td>1721308.0</td>\n",
       "    </tr>\n",
       "    <tr>\n",
       "      <th>3</th>\n",
       "      <td>Cultural Partnerships</td>\n",
       "      <td>2502448.0</td>\n",
       "    </tr>\n",
       "    <tr>\n",
       "      <th>4</th>\n",
       "      <td>Langston Hughes Performing Arts Institute</td>\n",
       "      <td>NaN</td>\n",
       "    </tr>\n",
       "  </tbody>\n",
       "</table>\n",
       "</div>"
      ],
      "text/plain": [
       "                                     Program  2012 Actual\n",
       "0            Library Levy Operating Transfer          NaN\n",
       "1                    Administrative Services     409133.0\n",
       "2         Community Development and Outreach    1721308.0\n",
       "3                      Cultural Partnerships    2502448.0\n",
       "4  Langston Hughes Performing Arts Institute          NaN"
      ]
     },
     "execution_count": 34,
     "metadata": {},
     "output_type": "execute_result"
    }
   ],
   "source": [
    "#subset data\n",
    "df[[\"Program\", \"2012 Actual\"]].head()"
   ]
  },
  {
   "cell_type": "code",
   "execution_count": 35,
   "metadata": {},
   "outputs": [
    {
     "data": {
      "text/html": [
       "<div>\n",
       "<style scoped>\n",
       "    .dataframe tbody tr th:only-of-type {\n",
       "        vertical-align: middle;\n",
       "    }\n",
       "\n",
       "    .dataframe tbody tr th {\n",
       "        vertical-align: top;\n",
       "    }\n",
       "\n",
       "    .dataframe thead th {\n",
       "        text-align: right;\n",
       "    }\n",
       "</style>\n",
       "<table border=\"1\" class=\"dataframe\">\n",
       "  <thead>\n",
       "    <tr style=\"text-align: right;\">\n",
       "      <th></th>\n",
       "      <th>Department</th>\n",
       "      <th>BCL</th>\n",
       "      <th>Program</th>\n",
       "      <th>2012 Actual</th>\n",
       "      <th>2013 Adopted</th>\n",
       "      <th>2014 Endorsed</th>\n",
       "      <th>2014 Proposed</th>\n",
       "    </tr>\n",
       "  </thead>\n",
       "  <tbody>\n",
       "    <tr>\n",
       "      <th>0</th>\n",
       "      <td>12LIBLEVY</td>\n",
       "      <td>Library Levy Operating Transfer</td>\n",
       "      <td>Library Levy Operating Transfer</td>\n",
       "      <td>NaN</td>\n",
       "      <td>13049781.0</td>\n",
       "      <td>12658704.0</td>\n",
       "      <td>12658704.0</td>\n",
       "    </tr>\n",
       "    <tr>\n",
       "      <th>1</th>\n",
       "      <td>ARTS</td>\n",
       "      <td>Arts Account</td>\n",
       "      <td>Administrative Services</td>\n",
       "      <td>409133.0</td>\n",
       "      <td>400683.0</td>\n",
       "      <td>411913.0</td>\n",
       "      <td>587579.0</td>\n",
       "    </tr>\n",
       "    <tr>\n",
       "      <th>2</th>\n",
       "      <td>ARTS</td>\n",
       "      <td>Arts Account</td>\n",
       "      <td>Community Development and Outreach</td>\n",
       "      <td>1721308.0</td>\n",
       "      <td>518398.0</td>\n",
       "      <td>534369.0</td>\n",
       "      <td>524770.0</td>\n",
       "    </tr>\n",
       "    <tr>\n",
       "      <th>3</th>\n",
       "      <td>ARTS</td>\n",
       "      <td>Arts Account</td>\n",
       "      <td>Cultural Partnerships</td>\n",
       "      <td>2502448.0</td>\n",
       "      <td>3030729.0</td>\n",
       "      <td>3005137.0</td>\n",
       "      <td>3440764.0</td>\n",
       "    </tr>\n",
       "    <tr>\n",
       "      <th>4</th>\n",
       "      <td>ARTS</td>\n",
       "      <td>Arts Account</td>\n",
       "      <td>Langston Hughes Performing Arts Institute</td>\n",
       "      <td>NaN</td>\n",
       "      <td>745698.0</td>\n",
       "      <td>778669.0</td>\n",
       "      <td>809180.0</td>\n",
       "    </tr>\n",
       "    <tr>\n",
       "      <th>5</th>\n",
       "      <td>ARTS</td>\n",
       "      <td>Municipal Arts Fund</td>\n",
       "      <td>Municipal Arts Fund</td>\n",
       "      <td>2798353.0</td>\n",
       "      <td>2449820.0</td>\n",
       "      <td>2513673.0</td>\n",
       "      <td>2991764.0</td>\n",
       "    </tr>\n",
       "    <tr>\n",
       "      <th>6</th>\n",
       "      <td>AUD</td>\n",
       "      <td>Office of City Auditor</td>\n",
       "      <td>Office of City Auditor</td>\n",
       "      <td>1148312.0</td>\n",
       "      <td>1913014.0</td>\n",
       "      <td>1461132.0</td>\n",
       "      <td>1402670.0</td>\n",
       "    </tr>\n",
       "    <tr>\n",
       "      <th>7</th>\n",
       "      <td>CBLFEE</td>\n",
       "      <td>Cable Fee Support to Information Technology Fund</td>\n",
       "      <td>Cable Communications</td>\n",
       "      <td>723252.0</td>\n",
       "      <td>745244.0</td>\n",
       "      <td>766477.0</td>\n",
       "      <td>776904.0</td>\n",
       "    </tr>\n",
       "    <tr>\n",
       "      <th>8</th>\n",
       "      <td>CBLFEE</td>\n",
       "      <td>Cable Fee Support to Information Technology Fund</td>\n",
       "      <td>Community Technology</td>\n",
       "      <td>1317216.0</td>\n",
       "      <td>1333350.0</td>\n",
       "      <td>1367133.0</td>\n",
       "      <td>1431718.0</td>\n",
       "    </tr>\n",
       "    <tr>\n",
       "      <th>9</th>\n",
       "      <td>CBLFEE</td>\n",
       "      <td>Cable Fee Support to Information Technology Fund</td>\n",
       "      <td>Finance and Administration</td>\n",
       "      <td>299688.0</td>\n",
       "      <td>373754.0</td>\n",
       "      <td>386050.0</td>\n",
       "      <td>0.0</td>\n",
       "    </tr>\n",
       "  </tbody>\n",
       "</table>\n",
       "</div>"
      ],
      "text/plain": [
       "  Department                                               BCL  \\\n",
       "0  12LIBLEVY                   Library Levy Operating Transfer   \n",
       "1       ARTS                                      Arts Account   \n",
       "2       ARTS                                      Arts Account   \n",
       "3       ARTS                                      Arts Account   \n",
       "4       ARTS                                      Arts Account   \n",
       "5       ARTS                               Municipal Arts Fund   \n",
       "6        AUD                            Office of City Auditor   \n",
       "7     CBLFEE  Cable Fee Support to Information Technology Fund   \n",
       "8     CBLFEE  Cable Fee Support to Information Technology Fund   \n",
       "9     CBLFEE  Cable Fee Support to Information Technology Fund   \n",
       "\n",
       "                                     Program  2012 Actual  2013 Adopted  \\\n",
       "0            Library Levy Operating Transfer          NaN    13049781.0   \n",
       "1                    Administrative Services     409133.0      400683.0   \n",
       "2         Community Development and Outreach    1721308.0      518398.0   \n",
       "3                      Cultural Partnerships    2502448.0     3030729.0   \n",
       "4  Langston Hughes Performing Arts Institute          NaN      745698.0   \n",
       "5                        Municipal Arts Fund    2798353.0     2449820.0   \n",
       "6                     Office of City Auditor    1148312.0     1913014.0   \n",
       "7                       Cable Communications     723252.0      745244.0   \n",
       "8                       Community Technology    1317216.0     1333350.0   \n",
       "9                 Finance and Administration     299688.0      373754.0   \n",
       "\n",
       "   2014 Endorsed  2014 Proposed  \n",
       "0     12658704.0     12658704.0  \n",
       "1       411913.0       587579.0  \n",
       "2       534369.0       524770.0  \n",
       "3      3005137.0      3440764.0  \n",
       "4       778669.0       809180.0  \n",
       "5      2513673.0      2991764.0  \n",
       "6      1461132.0      1402670.0  \n",
       "7       766477.0       776904.0  \n",
       "8      1367133.0      1431718.0  \n",
       "9       386050.0            0.0  "
      ]
     },
     "execution_count": 35,
     "metadata": {},
     "output_type": "execute_result"
    }
   ],
   "source": [
    "# get rows a to n-1\n",
    "df[0:10]"
   ]
  },
  {
   "cell_type": "code",
   "execution_count": 31,
   "metadata": {},
   "outputs": [
    {
     "data": {
      "text/html": [
       "<div>\n",
       "<style scoped>\n",
       "    .dataframe tbody tr th:only-of-type {\n",
       "        vertical-align: middle;\n",
       "    }\n",
       "\n",
       "    .dataframe tbody tr th {\n",
       "        vertical-align: top;\n",
       "    }\n",
       "\n",
       "    .dataframe thead th {\n",
       "        text-align: right;\n",
       "    }\n",
       "</style>\n",
       "<table border=\"1\" class=\"dataframe\">\n",
       "  <thead>\n",
       "    <tr style=\"text-align: right;\">\n",
       "      <th></th>\n",
       "      <th>Program</th>\n",
       "      <th>2013 Adopted</th>\n",
       "    </tr>\n",
       "  </thead>\n",
       "  <tbody>\n",
       "    <tr>\n",
       "      <th>0</th>\n",
       "      <td>Library Levy Operating Transfer</td>\n",
       "      <td>13049781.0</td>\n",
       "    </tr>\n",
       "    <tr>\n",
       "      <th>1</th>\n",
       "      <td>Administrative Services</td>\n",
       "      <td>400683.0</td>\n",
       "    </tr>\n",
       "    <tr>\n",
       "      <th>2</th>\n",
       "      <td>Community Development and Outreach</td>\n",
       "      <td>518398.0</td>\n",
       "    </tr>\n",
       "    <tr>\n",
       "      <th>3</th>\n",
       "      <td>Cultural Partnerships</td>\n",
       "      <td>3030729.0</td>\n",
       "    </tr>\n",
       "    <tr>\n",
       "      <th>4</th>\n",
       "      <td>Langston Hughes Performing Arts Institute</td>\n",
       "      <td>745698.0</td>\n",
       "    </tr>\n",
       "    <tr>\n",
       "      <th>5</th>\n",
       "      <td>Municipal Arts Fund</td>\n",
       "      <td>2449820.0</td>\n",
       "    </tr>\n",
       "    <tr>\n",
       "      <th>6</th>\n",
       "      <td>Office of City Auditor</td>\n",
       "      <td>1913014.0</td>\n",
       "    </tr>\n",
       "    <tr>\n",
       "      <th>7</th>\n",
       "      <td>Cable Communications</td>\n",
       "      <td>745244.0</td>\n",
       "    </tr>\n",
       "    <tr>\n",
       "      <th>8</th>\n",
       "      <td>Community Technology</td>\n",
       "      <td>1333350.0</td>\n",
       "    </tr>\n",
       "    <tr>\n",
       "      <th>9</th>\n",
       "      <td>Finance and Administration</td>\n",
       "      <td>373754.0</td>\n",
       "    </tr>\n",
       "    <tr>\n",
       "      <th>10</th>\n",
       "      <td>Seattle Channel/Democracy Portal</td>\n",
       "      <td>3149911.0</td>\n",
       "    </tr>\n",
       "  </tbody>\n",
       "</table>\n",
       "</div>"
      ],
      "text/plain": [
       "                                      Program  2013 Adopted\n",
       "0             Library Levy Operating Transfer    13049781.0\n",
       "1                     Administrative Services      400683.0\n",
       "2          Community Development and Outreach      518398.0\n",
       "3                       Cultural Partnerships     3030729.0\n",
       "4   Langston Hughes Performing Arts Institute      745698.0\n",
       "5                         Municipal Arts Fund     2449820.0\n",
       "6                      Office of City Auditor     1913014.0\n",
       "7                        Cable Communications      745244.0\n",
       "8                        Community Technology     1333350.0\n",
       "9                  Finance and Administration      373754.0\n",
       "10           Seattle Channel/Democracy Portal     3149911.0"
      ]
     },
     "execution_count": 31,
     "metadata": {},
     "output_type": "execute_result"
    }
   ],
   "source": [
    "# get rows \n",
    "df.loc[0:10, [\"Program\", \"2013 Adopted\"]]"
   ]
  }
 ],
 "metadata": {
  "kernelspec": {
   "display_name": "Python 3",
   "language": "python",
   "name": "python3"
  },
  "language_info": {
   "codemirror_mode": {
    "name": "ipython",
    "version": 3
   },
   "file_extension": ".py",
   "mimetype": "text/x-python",
   "name": "python",
   "nbconvert_exporter": "python",
   "pygments_lexer": "ipython3",
   "version": "3.7.6"
  }
 },
 "nbformat": 4,
 "nbformat_minor": 4
}
